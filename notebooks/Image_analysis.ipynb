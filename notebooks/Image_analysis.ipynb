{
 "cells": [
  {
   "cell_type": "code",
   "execution_count": 16,
   "metadata": {},
   "outputs": [],
   "source": [
    "import os\n",
    "import numpy as np\n",
    "import scipy.stats\n",
    "import matplotlib.pyplot as plt\n",
    "import PIL\n",
    "from PIL import Image\n",
    "import re\n",
    "import datetime\n",
    "import operator\n",
    "import time\n",
    "\n",
    "\n",
    "from RGBAnalysisFunctions import *\n",
    "from DataCollectorFunctions import *\n",
    "\n",
    "home = os.getcwd()\n",
    "\n",
    "#os.chdir('C:\\\\Users\\\\Doug\\\\Desktop\\\\CSSS_projects\\\\comp-syn')"
   ]
  },
  {
   "cell_type": "code",
   "execution_count": 30,
   "metadata": {},
   "outputs": [],
   "source": [
    "searchterms='puddle'\n",
    "searchterms_list = searchterms.split(\",\")"
   ]
  },
  {
   "cell_type": "code",
   "execution_count": 33,
   "metadata": {},
   "outputs": [],
   "source": [
    "term='puddle'\n",
    "term_img_set = os.listdir('downloads/' + term)"
   ]
  },
  {
   "cell_type": "code",
   "execution_count": 34,
   "metadata": {},
   "outputs": [],
   "source": [
    "img_dict = get_imgs(searchterms_list)"
   ]
  },
  {
   "cell_type": "code",
   "execution_count": 36,
   "metadata": {},
   "outputs": [],
   "source": [
    "def get_image_structure(searchterms_list, home, img_dict):\n",
    "    os.chdir(home)\n",
    "    img_dict_clean, img_array_dict, img_array_complexity_dict = get_img_dict(searchterms_list, \n",
    "                                                                             home, \n",
    "                                                                             img_dict)\n",
    "    \n",
    "    distribution_dict, h_dict, s_dict, v_dict, rgb_dict = get_color_distributions(img_array_dict, \n",
    "                                                                                  hsv=True, rgb=True, \n",
    "                                                                                  spacing=10)\n",
    "    entropy_dict = cross_entropy_between_images(rgb_dict)\n",
    "    compressed_img_array_dict = compress_img_array(searchterms_list, img_array_dict)\n",
    "    #cross_entropy_between_labels_dict, cross_entropy_matrix = cross_entropy_between_labels(rgb_dict, searchterms_list)\n",
    "    \n",
    "    return distribution_dict, h_dict, s_dict, v_dict, rgb_dict, entropy_dict, compressed_img_array_dict"
   ]
  },
  {
   "cell_type": "code",
   "execution_count": 40,
   "metadata": {},
   "outputs": [
    {
     "name": "stderr",
     "output_type": "stream",
     "text": [
      "C:\\ProgramData\\Anaconda3\\lib\\site-packages\\PIL\\Image.py:2685: UserWarning: image file could not be identified because WEBP support not installed\n",
      "  warnings.warn(message)\n",
      "C:\\ProgramData\\Anaconda3\\lib\\site-packages\\PIL\\Image.py:2685: UserWarning: image file could not be identified because WEBP support not installed\n",
      "  warnings.warn(message)\n",
      "C:\\ProgramData\\Anaconda3\\lib\\site-packages\\PIL\\Image.py:2685: UserWarning: image file could not be identified because WEBP support not installed\n",
      "  warnings.warn(message)\n"
     ]
    }
   ],
   "source": [
    "distribution_dict, h_dict, s_dict, v_dict, rgb_dict, entropy_dict, compressed_img_array_dict = get_image_structure(searchterms_list, home, img_dict)"
   ]
  },
  {
   "cell_type": "code",
   "execution_count": 41,
   "metadata": {},
   "outputs": [],
   "source": [
    "index = 0\n",
    "word = searchterms_list[index]"
   ]
  },
  {
   "cell_type": "code",
   "execution_count": 42,
   "metadata": {},
   "outputs": [],
   "source": [
    "spacing = 10\n",
    "bins = np.arange(0,360+spacing,spacing)\n",
    "centers = (bins[:-1] + bins[1:]) / 2\n",
    "\n",
    "meanhsvcolor = colorsys.hsv_to_rgb(np.mean(h_dict[word],axis=0),\n",
    "                                   np.mean(s_dict[word],axis=0),\n",
    "                                   np.mean(v_dict[word],axis=0))\n",
    "\n",
    "meanrgbcolor = np.mean(np.array(rgb_dict[searchterms_list[0]]),axis=0)\n",
    "    \n",
    "rgbcolors = []\n",
    "for i in range(len(centers)):\n",
    "    rgbcolors.append(colorsys.hsv_to_rgb(centers[i]/360.,\n",
    "                                         np.mean(s_dict[word],axis=0),\n",
    "                                         np.mean(v_dict[word],axis=0)))"
   ]
  },
  {
   "cell_type": "code",
   "execution_count": 43,
   "metadata": {},
   "outputs": [
    {
     "name": "stderr",
     "output_type": "stream",
     "text": [
      "C:\\ProgramData\\Anaconda3\\lib\\site-packages\\ipykernel_launcher.py:8: DeprecationWarning: object of type <class 'float'> cannot be safely interpreted as an integer.\n",
      "  \n"
     ]
    },
    {
     "data": {
      "image/png": "[encoded data removed]",
      "text/plain": [
       "<Figure size 576x432 with 1 Axes>"
      ]
     },
     "metadata": {},
     "output_type": "display_data"
    }
   ],
   "source": [
    "f,ax = plt.subplots(1,1,figsize=(8,6))\n",
    "\n",
    "alpha = 0.17\n",
    "N = 360\n",
    "\n",
    "avg_rgb = np.mean(np.array(distribution_dict[word]),axis=0)\n",
    "\n",
    "ind = np.linspace(0,N,N/spacing) #the x locations for the groups\n",
    "width = spacing #the width of the bars\n",
    "\n",
    "p1 = ax.bar(ind, spacing*avg_rgb, width, color=rgbcolors)\n",
    "\n",
    "#ax.set_ylim(0,1.1)\n",
    "ax.set_title('{}'.format(word), fontsize=20, color=meanrgbcolor)\n",
    "ax.set_xticks(centers[::5])\n",
    "ax.set_xticklabels(centers[::5].astype(int), fontsize=16)\n",
    "#ax.set_yticks((0,0.2,0.4,0.6,0.8,1.0))\n",
    "#ax.set_yticklabels(('0', '0.2', '0.4', '0.6', '0.8', '1'), fontsize=20)\n",
    "\n",
    "[t.set_color(i) for (i,t) in\n",
    " zip(rgbcolors[::5],ax.xaxis.get_ticklabels())]\n",
    "\n",
    "plt.ylabel(r'$\\mathcal{P}(\\rm{hue})$',fontsize=20)\n",
    "plt.subplots_adjust(wspace=0.25)\n",
    "\n",
    "#plt.savefig('atlantis.pdf')\n",
    "plt.show()"
   ]
  }
 ],
 "metadata": {
  "kernelspec": {
   "display_name": "Python 3",
   "language": "python",
   "name": "python3"
  },
  "language_info": {
   "codemirror_mode": {
    "name": "ipython",
    "version": 3
   },
   "file_extension": ".py",
   "mimetype": "text/x-python",
   "name": "python",
   "nbconvert_exporter": "python",
   "pygments_lexer": "ipython3",
   "version": "3.6.8"
  }
 },
 "nbformat": 4,
 "nbformat_minor": 2
}
