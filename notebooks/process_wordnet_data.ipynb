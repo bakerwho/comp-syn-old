{
 "cells": [
  {
   "cell_type": "code",
   "execution_count": null,
   "metadata": {},
   "outputs": [],
   "source": [
    "import os\n",
    "import time\n",
    "from random_word import RandomWords\n",
    "from nltk.corpus import wordnet as wn\n",
    "import random\n",
    "import matplotlib.colors as colors\n",
    "import matplotlib.pyplot as plt\n",
    "import matplotlib.cm as cm\n",
    "import seaborn as sns\n",
    "import pandas as pd\n",
    "from textblob import Word\n",
    "from textblob.wordnet import Synset\n",
    "import numpy as np\n",
    "import datetime\n",
    "import json\n",
    "import seaborn as sns\n",
    "from scipy import stats\n",
    "\n",
    "from WordListGeneratorFunctions import *\n",
    "\n",
    "%matplotlib inline"
   ]
  },
  {
   "cell_type": "markdown",
   "metadata": {},
   "source": [
    "### E.g. get discipline data from image folder"
   ]
  },
  {
   "cell_type": "code",
   "execution_count": null,
   "metadata": {},
   "outputs": [],
   "source": [
    "#get discipline and subdiscipline lists\n",
    "disc1_path= \"C:/Users/Doug/Desktop/discipline subset1/\"\n",
    "disc1 = os.listdir(disc1_path)\n",
    "os.chdir(disc1_path)\n",
    "\n",
    "disc_dict_full={}\n",
    "\n",
    "for disc in disc1:\n",
    "    new_path = disc + \"/\"\n",
    "    subdisc_set = os.listdir(new_path)\n",
    "    disc_dict_full[disc] = subdisc_set\n",
    "    \n",
    "disc2_path= \"C:/Users/Doug/Desktop/discipline subset2/\"\n",
    "disc2 = os.listdir(disc2_path)\n",
    "os.chdir(disc2_path)\n",
    "\n",
    "for disc in disc2:\n",
    "    new_path = disc + \"/\"\n",
    "    subdisc_set = os.listdir(new_path)\n",
    "    disc_dict_full[disc] = subdisc_set\n",
    "\n",
    "super_dict = get_branching_factor(disc_dict_full.keys())\n",
    "\n",
    "sub_dict = {} \n",
    "\n",
    "for disc in disc_dict_full.keys(): \n",
    "    sub_dict[disc]={}\n",
    "    subdisc = disc_dict_full[disc]\n",
    "    this_sub_dict = get_branching_factor(subdisc)\n",
    "    sub_dict[disc] = this_sub_dict\n",
    "    \n",
    "os.chdir(\"C:/Users/Doug/Desktop/CSSS_projects/comp-syn/\")"
   ]
  },
  {
   "cell_type": "markdown",
   "metadata": {},
   "source": [
    "### Get trees"
   ]
  },
  {
   "cell_type": "code",
   "execution_count": null,
   "metadata": {},
   "outputs": [],
   "source": [
    "get_trees=True\n",
    "home=os.getcwd()\n",
    "searchterms_list = ['physics']"
   ]
  },
  {
   "cell_type": "code",
   "execution_count": null,
   "metadata": {},
   "outputs": [],
   "source": [
    "synsets_all, synsets_simp = get_synsets(searchterms_list)    \n",
    "tree_data = pd.DataFrame(columns=['ref_term','new_term', 'role', 'synset', 'AMBdeg', 'polyNum'])"
   ]
  },
  {
   "cell_type": "code",
   "execution_count": null,
   "metadata": {},
   "outputs": [],
   "source": [
    "super_dict_org, sub_dict_org = get_precision(super_genres, sub_genres, avgsuperprec, avgsubprec, avgsuperbranch, avgsubbranch)"
   ]
  },
  {
   "cell_type": "code",
   "execution_count": null,
   "metadata": {},
   "outputs": [],
   "source": [
    "sup_synsets_all, sup_synsets_simp = get_synsets(super_disc)    \n",
    "sub_synsets_all, sub_synsets_simp = get_synsets(sub_disc)    "
   ]
  },
  {
   "cell_type": "markdown",
   "metadata": {},
   "source": [
    "### Get structured data "
   ]
  },
  {
   "cell_type": "code",
   "execution_count": null,
   "metadata": {},
   "outputs": [],
   "source": [
    "super_disc = disc_dict_full.keys()\n",
    "\n",
    "sub_disc = [] \n",
    "\n",
    "for k,v in disc_dict_full.items():\n",
    "    vals = disc_dict_full[k]\n",
    "    sub_disc.append(vals)\n",
    "    \n",
    "sub_disc = [item for sublist in sub_disc for item in sublist]"
   ]
  },
  {
   "cell_type": "markdown",
   "metadata": {},
   "source": [
    "### Save Data "
   ]
  },
  {
   "cell_type": "code",
   "execution_count": null,
   "metadata": {},
   "outputs": [],
   "source": [
    "import pickle\n",
    "\n",
    "with open('super_genres.pickle', 'wb') as handle:\n",
    "   pickle.dump(super_dict_org, handle, protocol=2)\n",
    "\n",
    "with open('sub_genres.pickle', 'wb') as handle:\n",
    "   pickle.dump(sub_dict_org, handle, protocol=2)"
   ]
  },
  {
   "cell_type": "code",
   "execution_count": null,
   "metadata": {},
   "outputs": [],
   "source": [
    "super_dist = list(list(super_dict.values())[0].values())\n",
    "physics_sub = list(sub_dict['physics'].values())\n",
    "biology_sub = list(sub_dict['biology'].values())\n",
    "distributions = [super_dist, physics_sub, biology_sub]"
   ]
  },
  {
   "cell_type": "code",
   "execution_count": null,
   "metadata": {},
   "outputs": [],
   "source": [
    "fig, ax = plt.subplots()\n",
    "for a in distributions:\n",
    "    sns.distplot(a, bins=range(1, 80, 5), ax=ax, kde=False)\n",
    "ax.set_xlim([0, 100])\n",
    "\n",
    "ax.tick_params(axis='both', which='major', labelsize=15)\n",
    "\n",
    "plt.title('Branching Factor Histogram', fontsize=18)\n",
    "plt.xlabel('Branching Factor', fontsize=18)\n",
    "plt.ylabel('Number of Words', fontsize=18)\n",
    "#ax.legend((super_dist, physics_sub, biology_sub), ('Disciplines', 'Physics Subdis.', 'Bio Subdis'))\n",
    "\n",
    "fig.savefig('branching_factor_hist.jpg', figsize=(1200,1200))\n"
   ]
  }
 ],
 "metadata": {
  "kernelspec": {
   "display_name": "Python 3",
   "language": "python",
   "name": "python3"
  },
  "language_info": {
   "codemirror_mode": {
    "name": "ipython",
    "version": 3
   },
   "file_extension": ".py",
   "mimetype": "text/x-python",
   "name": "python",
   "nbconvert_exporter": "python",
   "pygments_lexer": "ipython3",
   "version": "3.5.2"
  }
 },
 "nbformat": 4,
 "nbformat_minor": 2
}
